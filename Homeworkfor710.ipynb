{
 "cells": [
  {
   "cell_type": "code",
   "execution_count": 1,
   "id": "5a2d7ba1",
   "metadata": {},
   "outputs": [],
   "source": [
    "#import machine techniques \n",
    "#import pandas\n",
    "import pandas as pd\n",
    "#import numpy\n",
    "import numpy as np\n",
    "#import matlotlib \n",
    "import matplotlib.pyplot as plt\n",
    "#use sklearn for naives bayes and import GussianNB\n",
    "from sklearn.naive_bayes import GaussianNB\n",
    "#use sklearn for metrics and import confusion matrix is normalized over the true conditions\n",
    "from sklearn.metrics import plot_confusion_matrix\n",
    "#I create CSV file\n",
    "#first CSV file to read Traindata"
   ]
  },
  {
   "cell_type": "code",
   "execution_count": 2,
   "id": "192aa23a",
   "metadata": {},
   "outputs": [],
   "source": [
    "traindata = pd.read_csv(\"traindata.csv\")\n",
    "#second is call and to readTestData\n",
    "testdata = pd.read_csv(\"testdata.csv\")"
   ]
  },
  {
   "cell_type": "code",
   "execution_count": 3,
   "id": "fd8cdad3",
   "metadata": {},
   "outputs": [
    {
     "data": {
      "text/html": [
       "<div>\n",
       "<style scoped>\n",
       "    .dataframe tbody tr th:only-of-type {\n",
       "        vertical-align: middle;\n",
       "    }\n",
       "\n",
       "    .dataframe tbody tr th {\n",
       "        vertical-align: top;\n",
       "    }\n",
       "\n",
       "    .dataframe thead th {\n",
       "        text-align: right;\n",
       "    }\n",
       "</style>\n",
       "<table border=\"1\" class=\"dataframe\">\n",
       "  <thead>\n",
       "    <tr style=\"text-align: right;\">\n",
       "      <th></th>\n",
       "      <th>ex1</th>\n",
       "      <th>ex2</th>\n",
       "      <th>admsnrslt</th>\n",
       "    </tr>\n",
       "  </thead>\n",
       "  <tbody>\n",
       "    <tr>\n",
       "      <th>0</th>\n",
       "      <td>34.6237</td>\n",
       "      <td>78.0247</td>\n",
       "      <td>0</td>\n",
       "    </tr>\n",
       "    <tr>\n",
       "      <th>1</th>\n",
       "      <td>30.2867</td>\n",
       "      <td>43.8950</td>\n",
       "      <td>0</td>\n",
       "    </tr>\n",
       "    <tr>\n",
       "      <th>2</th>\n",
       "      <td>35.8474</td>\n",
       "      <td>72.9022</td>\n",
       "      <td>0</td>\n",
       "    </tr>\n",
       "    <tr>\n",
       "      <th>3</th>\n",
       "      <td>45.0833</td>\n",
       "      <td>56.3164</td>\n",
       "      <td>0</td>\n",
       "    </tr>\n",
       "    <tr>\n",
       "      <th>4</th>\n",
       "      <td>95.8616</td>\n",
       "      <td>38.2253</td>\n",
       "      <td>0</td>\n",
       "    </tr>\n",
       "    <tr>\n",
       "      <th>...</th>\n",
       "      <td>...</td>\n",
       "      <td>...</td>\n",
       "      <td>...</td>\n",
       "    </tr>\n",
       "    <tr>\n",
       "      <th>75</th>\n",
       "      <td>67.3193</td>\n",
       "      <td>66.5894</td>\n",
       "      <td>1</td>\n",
       "    </tr>\n",
       "    <tr>\n",
       "      <th>76</th>\n",
       "      <td>57.2387</td>\n",
       "      <td>59.5143</td>\n",
       "      <td>1</td>\n",
       "    </tr>\n",
       "    <tr>\n",
       "      <th>77</th>\n",
       "      <td>80.3668</td>\n",
       "      <td>90.9601</td>\n",
       "      <td>1</td>\n",
       "    </tr>\n",
       "    <tr>\n",
       "      <th>78</th>\n",
       "      <td>68.4685</td>\n",
       "      <td>85.5943</td>\n",
       "      <td>1</td>\n",
       "    </tr>\n",
       "    <tr>\n",
       "      <th>79</th>\n",
       "      <td>75.4777</td>\n",
       "      <td>90.4245</td>\n",
       "      <td>1</td>\n",
       "    </tr>\n",
       "  </tbody>\n",
       "</table>\n",
       "<p>80 rows × 3 columns</p>\n",
       "</div>"
      ],
      "text/plain": [
       "        ex1      ex2  admsnrslt\n",
       "0   34.6237  78.0247          0\n",
       "1   30.2867  43.8950          0\n",
       "2   35.8474  72.9022          0\n",
       "3   45.0833  56.3164          0\n",
       "4   95.8616  38.2253          0\n",
       "..      ...      ...        ...\n",
       "75  67.3193  66.5894          1\n",
       "76  57.2387  59.5143          1\n",
       "77  80.3668  90.9601          1\n",
       "78  68.4685  85.5943          1\n",
       "79  75.4777  90.4245          1\n",
       "\n",
       "[80 rows x 3 columns]"
      ]
     },
     "execution_count": 3,
     "metadata": {},
     "output_type": "execute_result"
    }
   ],
   "source": [
    "traindata"
   ]
  },
  {
   "cell_type": "code",
   "execution_count": 4,
   "id": "f6a5973d",
   "metadata": {},
   "outputs": [
    {
     "data": {
      "text/html": [
       "<div>\n",
       "<style scoped>\n",
       "    .dataframe tbody tr th:only-of-type {\n",
       "        vertical-align: middle;\n",
       "    }\n",
       "\n",
       "    .dataframe tbody tr th {\n",
       "        vertical-align: top;\n",
       "    }\n",
       "\n",
       "    .dataframe thead th {\n",
       "        text-align: right;\n",
       "    }\n",
       "</style>\n",
       "<table border=\"1\" class=\"dataframe\">\n",
       "  <thead>\n",
       "    <tr style=\"text-align: right;\">\n",
       "      <th></th>\n",
       "      <th>ex1</th>\n",
       "      <th>ex2</th>\n",
       "      <th>admsnrslt</th>\n",
       "    </tr>\n",
       "  </thead>\n",
       "  <tbody>\n",
       "    <tr>\n",
       "      <th>0</th>\n",
       "      <td>30.0588</td>\n",
       "      <td>49.5930</td>\n",
       "      <td>0</td>\n",
       "    </tr>\n",
       "    <tr>\n",
       "      <th>1</th>\n",
       "      <td>44.6683</td>\n",
       "      <td>66.4501</td>\n",
       "      <td>0</td>\n",
       "    </tr>\n",
       "    <tr>\n",
       "      <th>2</th>\n",
       "      <td>66.5609</td>\n",
       "      <td>41.0921</td>\n",
       "      <td>0</td>\n",
       "    </tr>\n",
       "    <tr>\n",
       "      <th>3</th>\n",
       "      <td>49.0726</td>\n",
       "      <td>51.8832</td>\n",
       "      <td>0</td>\n",
       "    </tr>\n",
       "    <tr>\n",
       "      <th>4</th>\n",
       "      <td>32.7228</td>\n",
       "      <td>43.3072</td>\n",
       "      <td>0</td>\n",
       "    </tr>\n",
       "    <tr>\n",
       "      <th>5</th>\n",
       "      <td>60.4556</td>\n",
       "      <td>42.5084</td>\n",
       "      <td>0</td>\n",
       "    </tr>\n",
       "    <tr>\n",
       "      <th>6</th>\n",
       "      <td>82.2267</td>\n",
       "      <td>42.7199</td>\n",
       "      <td>0</td>\n",
       "    </tr>\n",
       "    <tr>\n",
       "      <th>7</th>\n",
       "      <td>42.0755</td>\n",
       "      <td>78.8448</td>\n",
       "      <td>0</td>\n",
       "    </tr>\n",
       "    <tr>\n",
       "      <th>8</th>\n",
       "      <td>52.3480</td>\n",
       "      <td>60.7695</td>\n",
       "      <td>0</td>\n",
       "    </tr>\n",
       "    <tr>\n",
       "      <th>9</th>\n",
       "      <td>55.4822</td>\n",
       "      <td>35.5707</td>\n",
       "      <td>0</td>\n",
       "    </tr>\n",
       "    <tr>\n",
       "      <th>10</th>\n",
       "      <td>99.8279</td>\n",
       "      <td>72.3693</td>\n",
       "      <td>1</td>\n",
       "    </tr>\n",
       "    <tr>\n",
       "      <th>11</th>\n",
       "      <td>47.2643</td>\n",
       "      <td>88.4759</td>\n",
       "      <td>1</td>\n",
       "    </tr>\n",
       "  </tbody>\n",
       "</table>\n",
       "</div>"
      ],
      "text/plain": [
       "        ex1      ex2  admsnrslt\n",
       "0   30.0588  49.5930          0\n",
       "1   44.6683  66.4501          0\n",
       "2   66.5609  41.0921          0\n",
       "3   49.0726  51.8832          0\n",
       "4   32.7228  43.3072          0\n",
       "5   60.4556  42.5084          0\n",
       "6   82.2267  42.7199          0\n",
       "7   42.0755  78.8448          0\n",
       "8   52.3480  60.7695          0\n",
       "9   55.4822  35.5707          0\n",
       "10  99.8279  72.3693          1\n",
       "11  47.2643  88.4759          1"
      ]
     },
     "execution_count": 4,
     "metadata": {},
     "output_type": "execute_result"
    }
   ],
   "source": [
    "testdata"
   ]
  },
  {
   "cell_type": "code",
   "execution_count": 5,
   "id": "b4353349",
   "metadata": {},
   "outputs": [],
   "source": [
    "#variable ytain for admission results\n",
    "ytrain = traindata['admsnrslt']\n",
    "#variable ydata for admission results\n",
    "ytest = testdata['admsnrslt']\n",
    "#traindata is to dro admsnrslt\n",
    "traindata = traindata.drop('admsnrslt', axis =1)\n",
    "#estdata is to drop admsnrlt\n",
    "testdata = testdata.drop('admsnrslt', axis =1)"
   ]
  },
  {
   "cell_type": "code",
   "execution_count": 6,
   "id": "e80dfb68",
   "metadata": {},
   "outputs": [
    {
     "name": "stdout",
     "output_type": "stream",
     "text": [
      "(ytest,ypred)\n",
      "(0, 0)\n",
      "(0, 0)\n",
      "(0, 0)\n",
      "(0, 0)\n",
      "(0, 0)\n",
      "(0, 0)\n",
      "(0, 1)\n",
      "(0, 0)\n",
      "(0, 0)\n",
      "(0, 0)\n",
      "(1, 1)\n",
      "(1, 1)\n"
     ]
    },
    {
     "name": "stderr",
     "output_type": "stream",
     "text": [
      "C:\\anaconda\\lib\\site-packages\\sklearn\\utils\\deprecation.py:87: FutureWarning: Function plot_confusion_matrix is deprecated; Function `plot_confusion_matrix` is deprecated in 1.0 and will be removed in 1.2. Use one of the class methods: ConfusionMatrixDisplay.from_predictions or ConfusionMatrixDisplay.from_estimator.\n",
      "  warnings.warn(msg, category=FutureWarning)\n"
     ]
    },
    {
     "data": {
      "text/plain": [
       "<sklearn.metrics._plot.confusion_matrix.ConfusionMatrixDisplay at 0x20fbf36b6a0>"
      ]
     },
     "execution_count": 6,
     "metadata": {},
     "output_type": "execute_result"
    },
    {
     "data": {
      "image/png": "[encoded data removed]",
      "text/plain": [
       "<Figure size 432x288 with 2 Axes>"
      ]
     },
     "metadata": {
      "needs_background": "light"
     },
     "output_type": "display_data"
    }
   ],
   "source": [
    "#I use Gussian as GNB for short\n",
    "gnb = GaussianNB()\n",
    "#using csv for. Used when the features have continuous values\n",
    "testpred = gnb.fit(traindata, ytrain).predict(testdata)\n",
    "#giving results of ytest and y pred\n",
    "print('(ytest,ypred)')\n",
    "#use for loop \n",
    "for r in list(zip(ytest,testpred)):\n",
    "#Gives the results of r\n",
    "  print(r)\n",
    "# I plot using  martix for gnb and datasets\n",
    "plot_confusion_matrix(gnb, testdata, ytest)"
   ]
  },
  {
   "cell_type": "code",
   "execution_count": null,
   "id": "70923685",
   "metadata": {},
   "outputs": [],
   "source": []
  }
 ],
 "metadata": {
  "kernelspec": {
   "display_name": "Python 3 (ipykernel)",
   "language": "python",
   "name": "python3"
  },
  "language_info": {
   "codemirror_mode": {
    "name": "ipython",
    "version": 3
   },
   "file_extension": ".py",
   "mimetype": "text/x-python",
   "name": "python",
   "nbconvert_exporter": "python",
   "pygments_lexer": "ipython3",
   "version": "3.8.8"
  }
 },
 "nbformat": 4,
 "nbformat_minor": 5
}
